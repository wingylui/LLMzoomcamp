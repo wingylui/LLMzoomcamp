{
 "cells": [
  {
   "cell_type": "code",
   "execution_count": 1,
   "id": "cc9e6b00",
   "metadata": {},
   "outputs": [],
   "source": [
    "import pandas as pd\n",
    "import numpy as np\n",
    "import json"
   ]
  },
  {
   "cell_type": "code",
   "execution_count": 2,
   "id": "f16acd0c",
   "metadata": {},
   "outputs": [],
   "source": [
    "with open (\"../data/baking.json\", \"r\") as f:\n",
    "    baking_recipes = json.load(f)"
   ]
  },
  {
   "cell_type": "code",
   "execution_count": 3,
   "id": "47f51ee7",
   "metadata": {},
   "outputs": [],
   "source": [
    "df = pd.DataFrame(baking_recipes)"
   ]
  },
  {
   "cell_type": "code",
   "execution_count": 4,
   "id": "51c3742e",
   "metadata": {},
   "outputs": [],
   "source": [
    "nut_df = pd.DataFrame(list(df[\"nutrients\"]))\n",
    "\n",
    "# remove grams unit and convert it into float type\n",
    "for col in nut_df.columns:\n",
    "    nut_df[col] = nut_df[col].str.replace(\"g\", \"\").astype(\"float\")"
   ]
  },
  {
   "cell_type": "code",
   "execution_count": null,
   "id": "124befdf",
   "metadata": {},
   "outputs": [],
   "source": [
    "time_df = pd.DataFrame(list(df[\"times\"]))\n",
    "\n",
    "# calculate preparation time (mins) (need to first extract the hours and mins out first)\n",
    "def cal_time(df, col):\n",
    "    dum_df = df.copy()\n",
    "    dum_df[col] = dum_df[col].replace(\"No Time\", \"\").fillna(\"\")\n",
    "    dum_df[\"Hours_\" + col] = dum_df[col].str.extract(r'(\\d+) hr').fillna(0).astype(int) # extract number of hours using regex\n",
    "    dum_df[\"Minutes\" + col] = dum_df[col].str.findall(r'(\\d+)\\s*mins').apply(lambda x: int(x[-1]) if x else 0).astype(int) # extract the last number for mins\n",
    "    dum_df[col + \"_mins\"] = dum_df[\"Hours_\" + col] * 60 + dum_df[\"Minutes\" + col] \n",
    "    result = dum_df[col + \"_mins\"].to_list()\n",
    "\n",
    "    return result\n",
    "\n",
    "\n",
    "time_df[\"prep_mins\"] = cal_time(time_df, \"Preparation\")\n",
    "time_df[\"cook_mins\"] = cal_time(time_df, \"Cooking\")\n",
    "time_df[\"total_mins\"] = time_df[\"prep_mins\"] + time_df[\"cook_mins\"] # total time spent for cooking\n",
    "time_df = time_df.drop(columns = [\"Preparation\", \"Cooking\"])"
   ]
  },
  {
   "cell_type": "code",
   "execution_count": 6,
   "id": "ae43b21d",
   "metadata": {},
   "outputs": [],
   "source": [
    "# create a new dataframe\n",
    "new_df = pd.concat([df, time_df], axis= 1).drop(columns = [\"nutrients\", \"times\"])\n",
    "new_df = pd.concat([new_df, nut_df], axis= 1)"
   ]
  },
  {
   "cell_type": "code",
   "execution_count": 12,
   "id": "343218f2",
   "metadata": {},
   "outputs": [],
   "source": [
    "new_df.to_json(\"../data/baking_cleaned.json\",orient = \"records\")"
   ]
  }
 ],
 "metadata": {
  "kernelspec": {
   "display_name": "LLMZoomcamp",
   "language": "python",
   "name": "python3"
  },
  "language_info": {
   "codemirror_mode": {
    "name": "ipython",
    "version": 3
   },
   "file_extension": ".py",
   "mimetype": "text/x-python",
   "name": "python",
   "nbconvert_exporter": "python",
   "pygments_lexer": "ipython3",
   "version": "3.13.5"
  }
 },
 "nbformat": 4,
 "nbformat_minor": 5
}
